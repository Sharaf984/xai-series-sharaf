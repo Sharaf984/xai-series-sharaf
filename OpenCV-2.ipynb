{
 "cells": [
  {
   "cell_type": "code",
   "execution_count": 9,
   "id": "bc087e25-0de6-4546-8f46-a7c7b0d9ffcd",
   "metadata": {},
   "outputs": [],
   "source": [
    "import numpy as np\n",
    "import cv2\n"
   ]
  },
  {
   "cell_type": "markdown",
   "id": "76bfd656-5e71-4587-af58-b2be3c8769dc",
   "metadata": {},
   "source": [
    "# Draw with mouse"
   ]
  },
  {
   "cell_type": "code",
   "execution_count": 17,
   "id": "6461e7e9-40d2-4b1a-8a4d-22b5f5dac38c",
   "metadata": {},
   "outputs": [],
   "source": [
    "# fuction to draw circle\n",
    "def draw_circle(event, x, y, flags, param):\n",
    "       if event == cv2.EVENT_LBUTTONDOWN:\n",
    "        cv2.circle(img, (x, y), 100, (0, 255, 0), -1)\n",
    "       elif event == cv2.EVENT_RBUTTONDOWN:\n",
    "        cv2.circle(img, (x, y), 100, (255,0, 0), -1)\n",
    "cv2.namedWindow(winname='my_drawing')\n",
    "cv2.setMouseCallback('my_drawing',draw_circle)\n",
    "# show Image\n",
    "img = np.zeros((512, 512, 3), np.uint8)\n",
    "while True:\n",
    "    cv2.imshow('my_drawing',img)\n",
    "    if cv2.waitKey(20) & 0xFF == 27:\n",
    "        break\n",
    "\n",
    "cv2.destroyAllWindows()    \n"
   ]
  },
  {
   "cell_type": "markdown",
   "id": "d4584f44-9223-4221-b3c1-a3558a0f8e59",
   "metadata": {},
   "source": [
    "# draw with mouse with resize "
   ]
  },
  {
   "cell_type": "code",
   "execution_count": 19,
   "id": "383814ee-979a-4106-ae2c-42baba832739",
   "metadata": {},
   "outputs": [],
   "source": [
    "import cv2\n",
    "import numpy as np\n",
    "\n",
    "\n",
    "# Create a function based on a CV2 Event (Left button click)\n",
    "drawing = False # True if mouse is pressed\n",
    "ix,iy = -1,-1\n",
    "\n",
    "# mouse callback function\n",
    "def draw_rectangle(event,x,y,flags,param):\n",
    "    global ix,iy,drawing,mode\n",
    "\n",
    "    if event == cv2.EVENT_LBUTTONDOWN:\n",
    "        # When you click DOWN with left mouse button drawing is set to True\n",
    "        drawing = True\n",
    "        # Then we take note of where that mouse was located\n",
    "        ix,iy = x,y\n",
    "\n",
    "    elif event == cv2.EVENT_MOUSEMOVE:\n",
    "        # Now the mouse is moving\n",
    "        if drawing == True:\n",
    "            # If drawing is True, it means you've already clicked on the left mouse button\n",
    "            # We draw a rectangle from the previous position to the x,y where the mouse is\n",
    "            cv2.rectangle(img,(ix,iy),(x,y),(0,255,0),-1)\n",
    "           \n",
    "\n",
    "    elif event == cv2.EVENT_LBUTTONUP:\n",
    "        # Once you lift the mouse button, drawing is False\n",
    "        drawing = False\n",
    "        # we complete the rectangle.\n",
    "        cv2.rectangle(img,(ix,iy),(x,y),(0,255,0),-1)\n",
    "        \n",
    "        \n",
    "\n",
    "# Create a black image\n",
    "img = np.zeros((512,512,3), np.uint8)\n",
    "# This names the window so we can reference it \n",
    "cv2.namedWindow(winname='my_drawing')\n",
    "# Connects the mouse button to our callback function\n",
    "cv2.setMouseCallback('my_drawing',draw_rectangle)\n",
    "\n",
    "while True: #Runs forever until we break with Esc key on keyboard\n",
    "    # Shows the image window\n",
    "    cv2.imshow('my_drawing',img)\n",
    "    # EXPLANATION FOR THIS LINE OF CODE:\n",
    "    # https://stackoverflow.com/questions/35372700/whats-0xff-for-in-cv2-waitkey1/39201163\n",
    "    \n",
    "    # CHECK TO SEE IF ESC WAS PRESSED ON KEYBOARD\n",
    "    if cv2.waitKey(1) & 0xFF == 27:\n",
    "        break\n",
    "# Once script is done, its usually good practice to call this line\n",
    "# It closes all windows (just in case you have multiple windows called)\n",
    "cv2.destroyAllWindows()"
   ]
  },
  {
   "cell_type": "code",
   "execution_count": null,
   "id": "cfd40b8b-6b5c-4d62-baf3-f73dd2314356",
   "metadata": {},
   "outputs": [],
   "source": []
  },
  {
   "cell_type": "code",
   "execution_count": null,
   "id": "0765d9e9-387c-49c2-8ca9-f9ebe5c286db",
   "metadata": {},
   "outputs": [],
   "source": []
  },
  {
   "cell_type": "code",
   "execution_count": null,
   "id": "d65ae3e2-b5e6-44c8-b4be-f1e6fef14b47",
   "metadata": {},
   "outputs": [],
   "source": []
  },
  {
   "cell_type": "code",
   "execution_count": null,
   "id": "2eba7341-9747-4340-85f1-d542324c876b",
   "metadata": {},
   "outputs": [],
   "source": []
  }
 ],
 "metadata": {
  "kernelspec": {
   "display_name": "Python 3 (ipykernel)",
   "language": "python",
   "name": "python3"
  },
  "language_info": {
   "codemirror_mode": {
    "name": "ipython",
    "version": 3
   },
   "file_extension": ".py",
   "mimetype": "text/x-python",
   "name": "python",
   "nbconvert_exporter": "python",
   "pygments_lexer": "ipython3",
   "version": "3.12.4"
  }
 },
 "nbformat": 4,
 "nbformat_minor": 5
}
